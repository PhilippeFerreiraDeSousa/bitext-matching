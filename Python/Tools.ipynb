{
 "cells": [
  {
   "cell_type": "code",
   "execution_count": null,
   "metadata": {
    "collapsed": true
   },
   "outputs": [],
   "source": [
    "import math\n",
    "\n",
    "\n",
    "def is_converged(new,old,num_of_iterations):\n",
    "    epsilon = 0.00000001\n",
    "    if num_of_iterations > max_num_of_iterations :\n",
    "        return True\n",
    "\n",
    "    for i in range(len(new)):\n",
    "        for j in range(len(new[0])):\n",
    "            if math.fabs(new[i][j]- old[i][j]) > epsilon:\n",
    "                return False\n",
    "    return True\n",
    "\n",
    "\n",
    "def nCr(n,r):\n",
    "    try:\n",
    "        if n-r < 0 :\n",
    "            return 1\n",
    "        f = math.factorial\n",
    "        return f(n) / f(r) / f(n-r)\n",
    "    except:\n",
    "        print( \"value error \" + str(n) + \"  \" + str(r))\n",
    "        raise\n",
    "\n",
    "\n",
    "def factorial(n):\n",
    "    if n < 0 :\n",
    "        return 1\n",
    "    f = math.factorial\n",
    "    return f(n)\n",
    "\n",
    "\n",
    "const = 0.1\n",
    "num_of_train_sample = 4000\n",
    "num_of_test_sample = 100\n",
    "max_num_of_iterations = 3\n",
    "\n",
    "#colors for print W  = '\\033[0m'  # white (normal)\n",
    "BL = '\\033[30m' # black\n",
    "R = '\\033[31m' # red\n",
    "G = '\\033[32m' # green\n",
    "O = '\\033[33m' # orange\n",
    "B = '\\033[34m' # blue\n",
    "P = '\\033[35m' # purple"
   ]
  }
 ],
 "metadata": {
  "kernelspec": {
   "display_name": "Python 3",
   "language": "python",
   "name": "python3"
  },
  "language_info": {
   "codemirror_mode": {
    "name": "ipython",
    "version": 3
   },
   "file_extension": ".py",
   "mimetype": "text/x-python",
   "name": "python",
   "nbconvert_exporter": "python",
   "pygments_lexer": "ipython3",
   "version": "3.6.1"
  }
 },
 "nbformat": 4,
 "nbformat_minor": 2
}
